{
 "cells": [
  {
   "cell_type": "code",
   "execution_count": 42,
   "metadata": {},
   "outputs": [],
   "source": [
    "import pandas as pd\n",
    "import numpy as np\n",
    "import re\n",
    "from scipy.spatial.distance import cosine"
   ]
  },
  {
   "cell_type": "code",
   "execution_count": 43,
   "metadata": {},
   "outputs": [
    {
     "name": "stdout",
     "output_type": "stream",
     "text": [
      "[[0.7327387580875756, 6], [0.7770887149698589, 4]]\n",
      "Domestic cats are similar in size to the other members of the genus Felis, typically weighing between 4 and 5 kg (8.8 and 11.0 lb).\n",
      "\n",
      "In one, people deliberately tamed cats in a process of artificial selection, as they were useful predators of vermin.\n",
      "\n"
     ]
    }
   ],
   "source": [
    "text_index = {\"sn\":[], \"word\":[], \"freq\":[]}\n",
    "text = []\n",
    "words = []\n",
    "matrix = []\n",
    "with open('datasets/sentences.txt') as fp:\n",
    "    n = 0\n",
    "    for string in fp:\n",
    "        text.append(string)\n",
    "        sentence = re.split('[\\W\\d]+', string)\n",
    "        sentence = list(filter(None, sentence))\n",
    "        sentence = list(map(lambda x: x.lower(), sentence))\n",
    "        words, freq = np.unique(sentence,return_counts=True)\n",
    "        for i, word in enumerate(words):\n",
    "            text_index[\"sn\"].append(n)\n",
    "            text_index[\"word\"].append(word)\n",
    "            text_index[\"freq\"].append(freq[i])\n",
    "        n += 1\n",
    "matrix = pd.DataFrame(text_index).pivot_table(index='sn', columns='word', values='freq', aggfunc={'freq': sum}).fillna(0).values\n",
    "dist = []\n",
    "for n, row in enumerate(matrix):\n",
    "    if n == 0:\n",
    "        continue\n",
    "    dist.append([cosine(matrix[0], row), n])\n",
    "dist.sort()\n",
    "print(dist[:2])\n",
    "for row in dist[:2]:\n",
    "    print(text[row[1]])"
   ]
  }
 ],
 "metadata": {
  "kernelspec": {
   "display_name": "Python 3",
   "language": "python",
   "name": "python3"
  },
  "language_info": {
   "codemirror_mode": {
    "name": "ipython",
    "version": 3
   },
   "file_extension": ".py",
   "mimetype": "text/x-python",
   "name": "python",
   "nbconvert_exporter": "python",
   "pygments_lexer": "ipython3",
   "version": "3.6.5"
  }
 },
 "nbformat": 4,
 "nbformat_minor": 2
}
